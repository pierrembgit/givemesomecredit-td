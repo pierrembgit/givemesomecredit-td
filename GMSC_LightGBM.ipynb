{
 "cells": [
  {
   "cell_type": "markdown",
   "metadata": {},
   "source": [
    "# Give Me Some Credit - Kaggle Competition\n",
    "\n",
    "Improve on the state of the art in credit scoring by predicting the probability that somebody will experience financial distress in the next two years.\n",
    "\n",
    "## Get the train dataset"
   ]
  },
  {
   "cell_type": "code",
   "execution_count": null,
   "metadata": {},
   "outputs": [],
   "source": [
    "import pandas as pd\n",
    "GMSC_train_data = pd.read_csv('sources/cs-training.csv', index_col=0)\n",
    "GMSC_train_data.describe()"
   ]
  },
  {
   "cell_type": "code",
   "execution_count": null,
   "metadata": {},
   "outputs": [],
   "source": [
    "Y_train = GMSC_train_data['SeriousDlqin2yrs']\n",
    "X_train = GMSC_train_data.drop(columns=['SeriousDlqin2yrs'], axis=1)"
   ]
  },
  {
   "cell_type": "markdown",
   "metadata": {},
   "source": [
    "## Preprocess the data"
   ]
  },
  {
   "cell_type": "code",
   "execution_count": null,
   "metadata": {},
   "outputs": [],
   "source": [
    "# def preprocess(dataframe):\n",
    "#     dataframe.loc[dataframe['NumberOfTime30-59DaysPastDueNotWorse'] >= 95,'NumberOfTime30-59DaysPastDueNotWorse'] = 18\n",
    "#     dataframe.loc[dataframe['NumberOfTime60-89DaysPastDueNotWorse'] >= 95,'NumberOfTime60-89DaysPastDueNotWorse'] = 18\n",
    "#     dataframe.loc[dataframe['NumberOfTimes90DaysLate'] >= 95,'NumberOfTimes90DaysLate'] = 18\n",
    "    \n",
    "#     dataframe['NumberOfTimeGlobal'] = dataframe['NumberOfTime30-59DaysPastDueNotWorse'] + dataframe['NumberOfTime60-89DaysPastDueNotWorse']*2 + dataframe['NumberOfTimes90DaysLate']*3\n",
    "    \n",
    "#     dataframe.loc[dataframe['age'] < 60,'IsOld'] = 0\n",
    "#     dataframe.loc[dataframe['age'] >= 60,'IsOld'] = 1\n",
    "    \n",
    "#     return dataframe\n",
    "\n",
    "# X_train = preprocess(X_train)\n",
    "# Réactiver preprocess sur dataset test"
   ]
  },
  {
   "cell_type": "code",
   "execution_count": null,
   "metadata": {},
   "outputs": [],
   "source": [
    "from sklearn.pipeline import Pipeline\n",
    "from sklearn.impute import SimpleImputer\n",
    "from sklearn.preprocessing import StandardScaler\n",
    "\n",
    "num_pipeline = Pipeline([\n",
    "    ('imputer', SimpleImputer(strategy=\"median\")),\n",
    "    ('std_scaler', StandardScaler()),\n",
    "])\n",
    "\n",
    "X_train_std = num_pipeline.fit_transform(X_train)"
   ]
  },
  {
   "cell_type": "markdown",
   "metadata": {},
   "source": [
    "## Find bests hyperparameters for LightGBM \n",
    "### Cross-validation with StratifiedKFold"
   ]
  },
  {
   "cell_type": "code",
   "execution_count": null,
   "metadata": {},
   "outputs": [],
   "source": [
    "from sklearn.model_selection import StratifiedKFold\n",
    "skf = StratifiedKFold(\n",
    "    n_splits = 10,\n",
    "    shuffle = True,\n",
    "    random_state = 42\n",
    ")"
   ]
  },
  {
   "cell_type": "markdown",
   "metadata": {},
   "source": [
    "### GridSearchCV and RandomizedSearchCV"
   ]
  },
  {
   "cell_type": "code",
   "execution_count": null,
   "metadata": {},
   "outputs": [],
   "source": [
    "import lightgbm as lgb\n",
    "\n",
    "clf = lgb.LGBMClassifier()"
   ]
  },
  {
   "cell_type": "code",
   "execution_count": null,
   "metadata": {},
   "outputs": [],
   "source": [
    "from sklearn.model_selection import RandomizedSearchCV\n",
    "\n",
    "params = {\n",
    "    'learning_rate': [0.001],\n",
    "    'boosting_type' : ['gbdt'], # ['gbdt', 'dart', 'goss', 'rf'],\n",
    "    'objective' : ['binary'],\n",
    "    'n_estimators': [200],\n",
    "    'num_leaves': [150, 300, 500],\n",
    "    'random_state' : [42], # Updated from 'seed'\n",
    "    'colsample_bytree' : [0.5, 0.55, 0.6],\n",
    "    'subsample' : [0.6, 0.65, 0.7],\n",
    "    'reg_alpha' : [1, 1.2, 1.4],\n",
    "    'reg_lambda' : [1, 1.2, 1.4],\n",
    "}\n",
    "\n",
    "search_cv = RandomizedSearchCV(\n",
    "    estimator = clf,\n",
    "    param_distributions = params,\n",
    "    scoring = 'roc_auc',\n",
    "    n_iter = 1000,\n",
    "    n_jobs = 8,\n",
    "    cv = skf.split(X_train_std, Y_train),\n",
    "    verbose = 3,\n",
    "    random_state = 42,\n",
    ")"
   ]
  },
  {
   "cell_type": "code",
   "execution_count": null,
   "metadata": {},
   "outputs": [],
   "source": [
    "search_cv.fit(X_train_std, Y_train)"
   ]
  },
  {
   "cell_type": "markdown",
   "metadata": {},
   "source": [
    "### Bests hyperparameters for LightGBM "
   ]
  },
  {
   "cell_type": "code",
   "execution_count": null,
   "metadata": {},
   "outputs": [],
   "source": [
    "print(f'Best score : {search_cv.best_score_}')\n",
    "print(f'Best estimator: {search_cv.best_estimator_}')\n",
    "print(f'Best hyperparameters: {search_cv.best_params_}')"
   ]
  },
  {
   "cell_type": "code",
   "execution_count": null,
   "metadata": {},
   "outputs": [],
   "source": [
    "# print(f'CV results hyperparameters: {search_cv.cv_results_}')"
   ]
  },
  {
   "cell_type": "markdown",
   "metadata": {},
   "source": [
    "## Get the test dataset"
   ]
  },
  {
   "cell_type": "code",
   "execution_count": null,
   "metadata": {
    "scrolled": true
   },
   "outputs": [],
   "source": [
    "GMSC_test_data = pd.read_csv('sources/cs-test.csv')\n",
    "id_test = GMSC_test_data['Unnamed: 0']\n",
    "GMSC_test_data.drop(columns=['SeriousDlqin2yrs'], inplace=True)\n",
    "GMSC_test_data.drop(columns=['Unnamed: 0'], inplace=True)\n",
    "\n",
    "GMSC_test_data.describe()"
   ]
  },
  {
   "cell_type": "markdown",
   "metadata": {},
   "source": [
    "## Make a batch prediction on the test dataset"
   ]
  },
  {
   "cell_type": "code",
   "execution_count": null,
   "metadata": {},
   "outputs": [],
   "source": [
    "# GMSC_test_data = preprocess(GMSC_test_data)\n",
    "X_test_std = num_pipeline.transform(GMSC_test_data)\n",
    "y_pred = search_cv.predict_proba(X_test_std)\n",
    "kaggle_df = pd.DataFrame(data={'id':id_test, 'Probability':y_pred[:,1]})\n",
    "kaggle_df.to_csv('submission-kaggle-lgbm.csv', index=False)"
   ]
  }
 ],
 "metadata": {
  "kernelspec": {
   "display_name": "Python 3",
   "language": "python",
   "name": "python3"
  },
  "language_info": {
   "codemirror_mode": {
    "name": "ipython",
    "version": 3
   },
   "file_extension": ".py",
   "mimetype": "text/x-python",
   "name": "python",
   "nbconvert_exporter": "python",
   "pygments_lexer": "ipython3",
   "version": "3.7.4"
  }
 },
 "nbformat": 4,
 "nbformat_minor": 2
}
