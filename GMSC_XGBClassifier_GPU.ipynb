{
 "cells": [
  {
   "cell_type": "markdown",
   "metadata": {},
   "source": [
    "# Give Me Some Credit\n",
    "\n",
    "## Get the train dataset"
   ]
  },
  {
   "cell_type": "code",
   "execution_count": null,
   "metadata": {},
   "outputs": [],
   "source": [
    "import pandas as pd\n",
    "GMSC_train_data = pd.read_csv('sources/cs-training.csv', index_col=0)\n",
    "GMSC_train_data.describe()"
   ]
  },
  {
   "cell_type": "code",
   "execution_count": null,
   "metadata": {},
   "outputs": [],
   "source": [
    "Y_train = GMSC_train_data['SeriousDlqin2yrs']\n",
    "GMSC_train_data.drop(columns=['SeriousDlqin2yrs'], inplace=True)\n",
    "X_train = GMSC_train_data"
   ]
  },
  {
   "cell_type": "markdown",
   "metadata": {},
   "source": [
    "## Preprocess the data"
   ]
  },
  {
   "cell_type": "code",
   "execution_count": null,
   "metadata": {},
   "outputs": [],
   "source": [
    "from sklearn.pipeline import Pipeline\n",
    "from sklearn.impute import SimpleImputer\n",
    "from sklearn.preprocessing import RobustScaler\n",
    "\n",
    "num_pipeline = Pipeline([\n",
    "        ('imputer', SimpleImputer(strategy=\"mean\")),\n",
    "        ('std_scaler', RobustScaler()),\n",
    "    ])\n",
    "\n",
    "X_train_std = num_pipeline.fit_transform(X_train)"
   ]
  },
  {
   "cell_type": "markdown",
   "metadata": {},
   "source": [
    "## Find bests hyperparameters for XGBClassifier with GridSearchCV "
   ]
  },
  {
   "cell_type": "code",
   "execution_count": null,
   "metadata": {},
   "outputs": [],
   "source": [
    "import xgboost as xgboost\n",
    "from sklearn.model_selection import StratifiedKFold, GridSearchCV\n",
    "\n",
    "xgb = xgboost.XGBClassifier(\n",
    "    nthread = 8,\n",
    "    objective ='binary:logistic',\n",
    "    tree_method = 'gpu_hist',\n",
    "    gpu_id = 0,\n",
    "#     predictor = 'cpu_predictor'\n",
    ")\n",
    "\n",
    "skf = StratifiedKFold(\n",
    "    n_splits = 5,\n",
    "    shuffle = True,\n",
    "    random_state = 42\n",
    ")"
   ]
  },
  {
   "cell_type": "code",
   "execution_count": null,
   "metadata": {},
   "outputs": [],
   "source": [
    "params = {\n",
    "    'min_child_weight': [1, 5, 10],\n",
    "    'gamma': [0.5, 1, 1.5, 2, 5],\n",
    "    'subsample': [0.6, 0.8, 1.0],\n",
    "    'colsample_bytree': [0.6, 0.8, 1.0],\n",
    "    'max_depth': [3, 4, 5]\n",
    "}\n",
    "\n",
    "grid_search = GridSearchCV(\n",
    "    xgb,\n",
    "    param_grid=params,\n",
    "    scoring='roc_auc',\n",
    "    n_jobs=8,\n",
    "    cv=skf.split(X_train_std, Y_train),\n",
    "    verbose=3,\n",
    ")\n",
    "\n",
    "grid_search.fit(X_train_std, Y_train)"
   ]
  },
  {
   "cell_type": "code",
   "execution_count": null,
   "metadata": {},
   "outputs": [],
   "source": [
    "print(f'Best score : {grid_search.best_score_}')\n",
    "print(f'Best estimator: {grid_search.best_estimator_}')\n",
    "print(f'Best hyperparameters: {grid_search.best_params_}')"
   ]
  },
  {
   "cell_type": "markdown",
   "metadata": {},
   "source": [
    "## Get the test dataset"
   ]
  },
  {
   "cell_type": "code",
   "execution_count": null,
   "metadata": {},
   "outputs": [],
   "source": [
    "GMSC_test_data = pd.read_csv('sources/cs-test.csv')\n",
    "id_test = GMSC_test_data['Unnamed: 0']\n",
    "GMSC_test_data.drop(columns=['SeriousDlqin2yrs'], inplace=True)\n",
    "GMSC_test_data.drop(columns=['Unnamed: 0'], inplace=True)\n",
    "GMSC_test_data.describe()"
   ]
  },
  {
   "cell_type": "markdown",
   "metadata": {},
   "source": [
    "## Make a batch prediction on the test dataset"
   ]
  },
  {
   "cell_type": "code",
   "execution_count": null,
   "metadata": {},
   "outputs": [],
   "source": [
    "X_test_std = num_pipeline.transform(GMSC_test_data)\n",
    "y_pred = grid_search.predict_proba(X_test_std)\n",
    "kaggle_df = pd.DataFrame(data={'id':id_test, 'Probability':y_pred[:,1]})\n",
    "kaggle_df.to_csv('submission-kaggle.csv', index=False)"
   ]
  }
 ],
 "metadata": {
  "kernelspec": {
   "display_name": "Python 3",
   "language": "python",
   "name": "python3"
  },
  "language_info": {
   "codemirror_mode": {
    "name": "ipython",
    "version": 3
   },
   "file_extension": ".py",
   "mimetype": "text/x-python",
   "name": "python",
   "nbconvert_exporter": "python",
   "pygments_lexer": "ipython3",
   "version": "3.7.6"
  }
 },
 "nbformat": 4,
 "nbformat_minor": 2
}
