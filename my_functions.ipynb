{
 "cells": [
  {
   "cell_type": "code",
   "execution_count": null,
   "metadata": {},
   "outputs": [],
   "source": [
    "# Fonctions accessile dans tous les notebook via l'import\n",
    "# import ipynb.fs.full.my_functions as myfn"
   ]
  },
  {
   "cell_type": "code",
   "execution_count": null,
   "metadata": {},
   "outputs": [],
   "source": [
    "def pretraitements(dataframe):\n",
    "    dataframe.loc[dataframe['NumberOfTime30-59DaysPastDueNotWorse'] >= 20,'NumberOfTime30-59DaysPastDueNotWorse'] = dataframe['NumberOfTime30-59DaysPastDueNotWorse'].median()\n",
    "    dataframe.loc[dataframe['NumberOfTime60-89DaysPastDueNotWorse'] >= 20,'NumberOfTime60-89DaysPastDueNotWorse'] = dataframe['NumberOfTime60-89DaysPastDueNotWorse'].median()\n",
    "    dataframe.loc[dataframe['NumberOfTimes90DaysLate'] >= 20,'NumberOfTimes90DaysLate'] = dataframe['NumberOfTimes90DaysLate'].median()\n",
    "    \n",
    "    dataframe['NumberOfTimeGlobal'] = dataframe['NumberOfTime30-59DaysPastDueNotWorse'] + dataframe['NumberOfTime60-89DaysPastDueNotWorse']*2 + dataframe['NumberOfTimes90DaysLate']*3\n",
    "    \n",
    "    dataframe.drop(['NumberOfTime30-59DaysPastDueNotWorse', 'NumberOfTime60-89DaysPastDueNotWorse', 'NumberOfTimes90DaysLate'], axis=1, inplace=True)\n",
    "    \n",
    "    dataframe.loc[dataframe['age'] < 70,'IsOld'] = 0\n",
    "    dataframe.loc[dataframe['age'] >= 70,'IsOld'] = 1\n",
    "\n",
    "    dataframe.rename(columns={'Unnamed: 0': 'Id'}, inplace=True)\n",
    "    \n",
    "    dataframe.fillna('NA', inplace=True)\n",
    "    \n",
    "    return dataframe"
   ]
  },
  {
   "cell_type": "code",
   "execution_count": null,
   "metadata": {},
   "outputs": [],
   "source": [
    "def reorganiser_colonnes(df_source, df_destination):\n",
    "    col = df_source.columns.tolist()\n",
    "    df_destination = df_destination[col]\n",
    "    return df_destination"
   ]
  },
  {
   "cell_type": "code",
   "execution_count": null,
   "metadata": {},
   "outputs": [],
   "source": [
    "def bprint(data):\n",
    "    import pprint\n",
    "    pp = pprint.PrettyPrinter(indent=4)\n",
    "    return pp.pprint(data)"
   ]
  }
 ],
 "metadata": {
  "kernelspec": {
   "display_name": "Python 3",
   "language": "python",
   "name": "python3"
  },
  "language_info": {
   "codemirror_mode": {
    "name": "ipython",
    "version": 3
   },
   "file_extension": ".py",
   "mimetype": "text/x-python",
   "name": "python",
   "nbconvert_exporter": "python",
   "pygments_lexer": "ipython3",
   "version": "3.7.4"
  }
 },
 "nbformat": 4,
 "nbformat_minor": 2
}
