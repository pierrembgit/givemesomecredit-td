{
 "cells": [
  {
   "cell_type": "code",
   "execution_count": 16,
   "metadata": {},
   "outputs": [],
   "source": [
    "# On importe la librairie pandas et le dataset source et le dataset TEST\n",
    "import pandas as pd\n",
    "from matplotlib import pyplot\n",
    "# On importe les fonctions depuis my_functions.ipynb\n",
    "import ipynb.fs.full.my_functions as myfn\n",
    "\n",
    "# On omporte les csv\n",
    "df = pd.read_csv('sources/kaggle-give-me-credit-train.csv')\n",
    "df_test = pd.read_csv('sources/kaggle-give-me-credit-test.csv')"
   ]
  },
  {
   "cell_type": "code",
   "execution_count": 7,
   "metadata": {},
   "outputs": [],
   "source": [
    "df = myfn.pretraitements(df)\n",
    "df_test = myfn.pretraitements(df_test)"
   ]
  },
  {
   "cell_type": "code",
   "execution_count": 8,
   "metadata": {},
   "outputs": [],
   "source": [
    "df_test = myfn.reorganiser_colonnes(df, df_test)"
   ]
  },
  {
   "cell_type": "code",
   "execution_count": null,
   "metadata": {},
   "outputs": [],
   "source": [
    "# On exporte en csv\n",
    "df.to_csv('storage/source_dataset_train_full.csv', index=False)\n",
    "df_test.to_csv('storage/source_dataset_test.csv', index=False)"
   ]
  }
 ],
 "metadata": {
  "kernelspec": {
   "display_name": "Python 3",
   "language": "python",
   "name": "python3"
  },
  "language_info": {
   "codemirror_mode": {
    "name": "ipython",
    "version": 3
   },
   "file_extension": ".py",
   "mimetype": "text/x-python",
   "name": "python",
   "nbconvert_exporter": "python",
   "pygments_lexer": "ipython3",
   "version": "3.7.4"
  }
 },
 "nbformat": 4,
 "nbformat_minor": 2
}
